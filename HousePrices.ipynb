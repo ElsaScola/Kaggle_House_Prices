{
 "cells": [
  {
   "cell_type": "markdown",
   "metadata": {},
   "source": [
    "# Big Data Intelligence: Methods and Technologies\n",
    "# Assignment 2: Hyper-Parameter Tuning\n",
    "## Authors:  Liana Mehrabyan and Elsa Scola Martín\n",
    "### Objective:\n",
    "Given a dataset from the Kaggle competition ”House Prices: Advanced Regression Techniques” the goal of this assignment is to apply different algorithms and optimization techniques to predict House Prices based on the attributes.\n",
    "\n",
    "### What is done in the Notebook: \n",
    "- Load the data and standardize it.\n",
    "- Evaluate DecisionTreeRegressor and KNeighborsRegressor with default paramters.\n",
    "- Random Search for DecisionTreeRegressor hyper parameter tuning.\n",
    "- Random search for KNeighbors hyper parameter tuning.\n",
    "- Apply Scikit-optimize.\n",
    "- Best Model and Competition Submission.\n"
   ]
  },
  {
   "cell_type": "markdown",
   "metadata": {},
   "source": [
    "# Import the libraries"
   ]
  },
  {
   "cell_type": "code",
   "execution_count": 1,
   "metadata": {},
   "outputs": [],
   "source": [
    "import pandas as pd\n",
    "from sklearn import preprocessing, tree, metrics\n",
    "import numpy as np\n",
    "from sklearn.model_selection import train_test_split,cross_val_score, KFold,RandomizedSearchCV\n",
    "import matplotlib.pyplot as plt\n",
    "from sklearn.neighbors import KNeighborsRegressor\n",
    "from scipy.stats import sem \n",
    "from sklearn.decomposition import PCA\n",
    "import time"
   ]
  },
  {
   "cell_type": "markdown",
   "metadata": {},
   "source": [
    "# Data Loading, Split and Standardization"
   ]
  },
  {
   "cell_type": "code",
   "execution_count": 21,
   "metadata": {},
   "outputs": [
    {
     "name": "stdout",
     "output_type": "stream",
     "text": [
      "(978, 79) (978,)\n"
     ]
    }
   ],
   "source": [
    "data = pd.read_csv(\"kaggleCompetition.csv\") \n",
    "data = data.values\n",
    "X = data[0:1460,:-1]\n",
    "y = data[0:1460,-1]\n",
    "X_comp = data[1460:,:-1]\n",
    "y_comp = data[1460:,-1]\n",
    "scaler = preprocessing.StandardScaler().fit(X) \n",
    "X = scaler.transform(X)\n",
    "X_comp = scaler.transform(X_comp)\n",
    "# random_state=0 for reproducibility purposes\n",
    "X_train, X_test, y_train, y_test = train_test_split(X, y,test_size=0.33, random_state=0)\n",
    "print(X_train.shape, y_train.shape)"
   ]
  },
  {
   "cell_type": "markdown",
   "metadata": {},
   "source": [
    "# 3.2 Evaluation with Default Hyper Parameters"
   ]
  },
  {
   "cell_type": "markdown",
   "metadata": {},
   "source": [
    "## DecisionTreeRegressor \n",
    "### With Holdout"
   ]
  },
  {
   "cell_type": "code",
   "execution_count": 3,
   "metadata": {},
   "outputs": [
    {
     "name": "stdout",
     "output_type": "stream",
     "text": [
      "Training Error: 2.2001910189371395e-10\n",
      "Validation Error: 0.043841432285095856\n"
     ]
    }
   ],
   "source": [
    "clf = tree.DecisionTreeRegressor()\n",
    "clf = clf.fit(X_train, y_train)\n",
    "y_train_pred = clf.predict(X_train)\n",
    "y_test_pred = clf.predict(X_test)\n",
    "print('Training Error:', metrics.mean_squared_error(y_train, y_train_pred))\n",
    "print('Validation Error:', metrics.mean_squared_error(y_test, y_test_pred))"
   ]
  },
  {
   "cell_type": "markdown",
   "metadata": {},
   "source": [
    "### With 2-fold cross-validation"
   ]
  },
  {
   "cell_type": "code",
   "execution_count": 4,
   "metadata": {},
   "outputs": [
    {
     "name": "stdout",
     "output_type": "stream",
     "text": [
      "[0.04920897 0.04746221]\n",
      "Mean score: 0.048 (+/-0.001)\n"
     ]
    }
   ],
   "source": [
    "np.random.seed(0)\n",
    "cv = KFold(n_splits=2, shuffle=True, random_state=0)\n",
    "scores = -cross_val_score(tree.DecisionTreeRegressor(), \n",
    "                         X, y, \n",
    "                         scoring='neg_mean_squared_error', \n",
    "                         cv = cv)              \n",
    "\n",
    "print(scores)\n",
    "print(\"Mean score: {0:.3f} (+/-{1:.3f})\".format(scores.mean(), sem(scores)))"
   ]
  },
  {
   "cell_type": "markdown",
   "metadata": {},
   "source": [
    "## KNeighborsRegressor\n",
    "### With Holdout"
   ]
  },
  {
   "cell_type": "code",
   "execution_count": 5,
   "metadata": {
    "scrolled": true
   },
   "outputs": [
    {
     "name": "stdout",
     "output_type": "stream",
     "text": [
      "Training Error: 0.025037524793595778\n",
      "Validation Error: 0.030053956149153162\n"
     ]
    }
   ],
   "source": [
    "neigh = KNeighborsRegressor()\n",
    "neigh.fit(X_train, y_train) \n",
    "y_train_pred = neigh.predict(X_train)\n",
    "y_test_pred = neigh.predict(X_test)\n",
    "print('Training Error:', metrics.mean_squared_error(y_train, y_train_pred))\n",
    "print('Validation Error:', metrics.mean_squared_error(y_test, y_test_pred))"
   ]
  },
  {
   "cell_type": "markdown",
   "metadata": {},
   "source": [
    "### With 2-fold cross-validation"
   ]
  },
  {
   "cell_type": "code",
   "execution_count": 6,
   "metadata": {},
   "outputs": [
    {
     "name": "stdout",
     "output_type": "stream",
     "text": [
      "[0.0350818  0.03709147]\n",
      "Mean score: 0.036 (+/-0.001)\n"
     ]
    }
   ],
   "source": [
    "scores = -cross_val_score(KNeighborsRegressor(), \n",
    "                         X, y, \n",
    "                         scoring='neg_mean_squared_error', \n",
    "                         cv = cv)              \n",
    "print(scores)\n",
    "print(\"Mean score: {0:.3f} (+/-{1:.3f})\".format(scores.mean(), sem(scores)))"
   ]
  },
  {
   "cell_type": "markdown",
   "metadata": {},
   "source": [
    "# 3.3 Random Search for DecisionTreeRegressor hyper parameter tuning\n",
    "- **min_samples_split**\n",
    "- **criterion**"
   ]
  },
  {
   "cell_type": "code",
   "execution_count": 7,
   "metadata": {},
   "outputs": [
    {
     "name": "stdout",
     "output_type": "stream",
     "text": [
      "Fitting 2 folds for each of 20 candidates, totalling 40 fits\n",
      "0.03750209460443526\n",
      "Best Parameters \n",
      "\n",
      "Execution time: 0.1253671646118164\n"
     ]
    },
    {
     "name": "stderr",
     "output_type": "stream",
     "text": [
      "[Parallel(n_jobs=1)]: Using backend SequentialBackend with 1 concurrent workers.\n",
      "[Parallel(n_jobs=1)]: Done  40 out of  40 | elapsed:    0.0s finished\n"
     ]
    }
   ],
   "source": [
    "start = time.time()\n",
    "\n",
    "cv_grid = KFold(n_splits=2, shuffle=True, random_state=0)\n",
    "param_grid = {'min_samples_split': list(np.linspace(0.1,1,10)),\n",
    "              'criterion': list(['mse','friedman_mse'])}\n",
    "budget = 20\n",
    "np.random.seed(0)\n",
    "clf = RandomizedSearchCV(tree.DecisionTreeRegressor(), \n",
    "                         param_grid,\n",
    "                         scoring='neg_mean_squared_error',\n",
    "                         cv=cv_grid, \n",
    "                         n_jobs=1, verbose=1,\n",
    "                         n_iter=budget\n",
    "                        )\n",
    "clf.fit(X=X_train, y=y_train)\n",
    "y_test_pred = clf.predict(X_test)\n",
    "print(metrics.mean_squared_error(y_test, y_test_pred))\n",
    "print('Best Parameters \\n')\n",
    "clf.best_params_, -clf.best_score_\n",
    "\n",
    "end = time.time()\n",
    "print(\"Execution time: \"+str(end - start))\n"
   ]
  },
  {
   "cell_type": "markdown",
   "metadata": {},
   "source": [
    "# 3.4 Random search for KNeighbors hyper parameter tuning\n",
    "- **n_neigbors**\n",
    "- **weights**\n",
    "- **p**\n"
   ]
  },
  {
   "cell_type": "code",
   "execution_count": 8,
   "metadata": {
    "scrolled": true
   },
   "outputs": [
    {
     "name": "stdout",
     "output_type": "stream",
     "text": [
      "Fitting 2 folds for each of 20 candidates, totalling 40 fits\n"
     ]
    },
    {
     "name": "stderr",
     "output_type": "stream",
     "text": [
      "[Parallel(n_jobs=1)]: Using backend SequentialBackend with 1 concurrent workers.\n"
     ]
    },
    {
     "name": "stdout",
     "output_type": "stream",
     "text": [
      "0.024676127896818324\n",
      "Execution time: 1.2477571964263916\n"
     ]
    },
    {
     "name": "stderr",
     "output_type": "stream",
     "text": [
      "[Parallel(n_jobs=1)]: Done  40 out of  40 | elapsed:    1.1s finished\n"
     ]
    }
   ],
   "source": [
    "start = time.time()\n",
    "\n",
    "\n",
    "cv_grid = KFold(n_splits=2, shuffle=True, random_state=0)\n",
    "\n",
    "param_grid = {'n_neighbors': list(range(2,16,2)),\n",
    "              'weights': list(['uniform','distance']),\n",
    "              'p': list([1,2])\n",
    "              \n",
    "             }\n",
    "budget = 20\n",
    "np.random.seed(0)\n",
    "clf = RandomizedSearchCV(KNeighborsRegressor(), \n",
    "                         param_grid,\n",
    "                         scoring='neg_mean_squared_error',\n",
    "                         cv=cv_grid, \n",
    "                         n_jobs=1, verbose=1,\n",
    "                         n_iter=budget\n",
    "                        )\n",
    "\n",
    "clf.fit(X=X_train, y=y_train)\n",
    "y_test_pred = clf.predict(X_test)\n",
    "print(metrics.mean_squared_error(y_test, y_test_pred))\n",
    "clf.best_params_, -clf.best_score_\n",
    "\n",
    "end = time.time()\n",
    "print(\"Execution time: \"+str(end - start))\n"
   ]
  },
  {
   "cell_type": "code",
   "execution_count": 9,
   "metadata": {},
   "outputs": [],
   "source": [
    "y_subm = clf.predict(X_comp)\n",
    "subm= np.exp(y_subm)\n",
    "subm=pd.DataFrame({'id': np.arange(1461,1461+subm.shape[0]), 'SalePrice':subm})\n",
    "subm.to_csv('submission_knn.csv', index=False)"
   ]
  },
  {
   "cell_type": "markdown",
   "metadata": {},
   "source": [
    "# 3.5 Scikit-optimize "
   ]
  },
  {
   "cell_type": "markdown",
   "metadata": {},
   "source": [
    "## DecisionTreeRegressor()"
   ]
  },
  {
   "cell_type": "code",
   "execution_count": 10,
   "metadata": {},
   "outputs": [
    {
     "name": "stderr",
     "output_type": "stream",
     "text": [
      "C:\\Users\\elsas\\Anaconda3\\envs\\Tech-Fundamentals-Lab1\\lib\\site-packages\\sklearn\\externals\\joblib\\__init__.py:15: DeprecationWarning: sklearn.externals.joblib is deprecated in 0.21 and will be removed in 0.23. Please import this functionality directly from joblib, which can be installed with: pip install joblib. If this warning is raised when loading pickled models, you may need to re-serialize those models with scikit-learn 0.21+.\n",
      "  warnings.warn(msg, category=DeprecationWarning)\n"
     ]
    },
    {
     "name": "stdout",
     "output_type": "stream",
     "text": [
      "Fitting 3 folds for each of 1 candidates, totalling 3 fits\n",
      "Fitting 3 folds for each of 1 candidates, totalling 3 fits\n",
      "Fitting 3 folds for each of 1 candidates, totalling 3 fits\n",
      "Fitting 3 folds for each of 1 candidates, totalling 3 fits\n",
      "Fitting 3 folds for each of 1 candidates, totalling 3 fits\n",
      "Fitting 3 folds for each of 1 candidates, totalling 3 fits\n",
      "Fitting 3 folds for each of 1 candidates, totalling 3 fits\n",
      "Fitting 3 folds for each of 1 candidates, totalling 3 fits\n",
      "Fitting 3 folds for each of 1 candidates, totalling 3 fits\n"
     ]
    },
    {
     "name": "stderr",
     "output_type": "stream",
     "text": [
      "[Parallel(n_jobs=1)]: Using backend SequentialBackend with 1 concurrent workers.\n",
      "[Parallel(n_jobs=1)]: Done   3 out of   3 | elapsed:    0.0s finished\n",
      "[Parallel(n_jobs=1)]: Using backend SequentialBackend with 1 concurrent workers.\n",
      "[Parallel(n_jobs=1)]: Done   3 out of   3 | elapsed:    0.0s finished\n",
      "[Parallel(n_jobs=1)]: Using backend SequentialBackend with 1 concurrent workers.\n",
      "[Parallel(n_jobs=1)]: Done   3 out of   3 | elapsed:    0.0s finished\n",
      "[Parallel(n_jobs=1)]: Using backend SequentialBackend with 1 concurrent workers.\n",
      "[Parallel(n_jobs=1)]: Done   3 out of   3 | elapsed:    0.0s finished\n",
      "[Parallel(n_jobs=1)]: Using backend SequentialBackend with 1 concurrent workers.\n",
      "[Parallel(n_jobs=1)]: Done   3 out of   3 | elapsed:    0.0s finished\n",
      "[Parallel(n_jobs=1)]: Using backend SequentialBackend with 1 concurrent workers.\n",
      "[Parallel(n_jobs=1)]: Done   3 out of   3 | elapsed:    0.0s finished\n",
      "[Parallel(n_jobs=1)]: Using backend SequentialBackend with 1 concurrent workers.\n",
      "[Parallel(n_jobs=1)]: Done   3 out of   3 | elapsed:    0.0s finished\n",
      "[Parallel(n_jobs=1)]: Using backend SequentialBackend with 1 concurrent workers.\n",
      "[Parallel(n_jobs=1)]: Done   3 out of   3 | elapsed:    0.0s finished\n",
      "[Parallel(n_jobs=1)]: Using backend SequentialBackend with 1 concurrent workers.\n",
      "[Parallel(n_jobs=1)]: Done   3 out of   3 | elapsed:    0.0s finished\n"
     ]
    },
    {
     "name": "stdout",
     "output_type": "stream",
     "text": [
      "Fitting 3 folds for each of 1 candidates, totalling 3 fits\n"
     ]
    },
    {
     "name": "stderr",
     "output_type": "stream",
     "text": [
      "[Parallel(n_jobs=1)]: Using backend SequentialBackend with 1 concurrent workers.\n",
      "[Parallel(n_jobs=1)]: Done   3 out of   3 | elapsed:    0.0s finished\n"
     ]
    },
    {
     "name": "stdout",
     "output_type": "stream",
     "text": [
      "Fitting 3 folds for each of 1 candidates, totalling 3 fits\n"
     ]
    },
    {
     "name": "stderr",
     "output_type": "stream",
     "text": [
      "[Parallel(n_jobs=1)]: Using backend SequentialBackend with 1 concurrent workers.\n",
      "[Parallel(n_jobs=1)]: Done   3 out of   3 | elapsed:    0.0s finished\n"
     ]
    },
    {
     "name": "stdout",
     "output_type": "stream",
     "text": [
      "Fitting 3 folds for each of 1 candidates, totalling 3 fits\n"
     ]
    },
    {
     "name": "stderr",
     "output_type": "stream",
     "text": [
      "[Parallel(n_jobs=1)]: Using backend SequentialBackend with 1 concurrent workers.\n",
      "[Parallel(n_jobs=1)]: Done   3 out of   3 | elapsed:    0.0s finished\n",
      "c:\\users\\elsas\\desktop\\pruebas\\src\\scikit-optimize\\skopt\\optimizer\\optimizer.py:399: UserWarning: The objective has been evaluated at this point before.\n",
      "  warnings.warn(\"The objective has been evaluated \"\n"
     ]
    },
    {
     "name": "stdout",
     "output_type": "stream",
     "text": [
      "Fitting 3 folds for each of 1 candidates, totalling 3 fits\n"
     ]
    },
    {
     "name": "stderr",
     "output_type": "stream",
     "text": [
      "[Parallel(n_jobs=1)]: Using backend SequentialBackend with 1 concurrent workers.\n",
      "[Parallel(n_jobs=1)]: Done   3 out of   3 | elapsed:    0.0s finished\n"
     ]
    },
    {
     "name": "stdout",
     "output_type": "stream",
     "text": [
      "Fitting 3 folds for each of 1 candidates, totalling 3 fits\n"
     ]
    },
    {
     "name": "stderr",
     "output_type": "stream",
     "text": [
      "[Parallel(n_jobs=1)]: Using backend SequentialBackend with 1 concurrent workers.\n",
      "[Parallel(n_jobs=1)]: Done   3 out of   3 | elapsed:    0.0s finished\n"
     ]
    },
    {
     "name": "stdout",
     "output_type": "stream",
     "text": [
      "Fitting 3 folds for each of 1 candidates, totalling 3 fits\n"
     ]
    },
    {
     "name": "stderr",
     "output_type": "stream",
     "text": [
      "[Parallel(n_jobs=1)]: Using backend SequentialBackend with 1 concurrent workers.\n",
      "[Parallel(n_jobs=1)]: Done   3 out of   3 | elapsed:    0.0s finished\n"
     ]
    },
    {
     "name": "stdout",
     "output_type": "stream",
     "text": [
      "Fitting 3 folds for each of 1 candidates, totalling 3 fits\n"
     ]
    },
    {
     "name": "stderr",
     "output_type": "stream",
     "text": [
      "[Parallel(n_jobs=1)]: Using backend SequentialBackend with 1 concurrent workers.\n",
      "[Parallel(n_jobs=1)]: Done   3 out of   3 | elapsed:    0.0s finished\n"
     ]
    },
    {
     "name": "stdout",
     "output_type": "stream",
     "text": [
      "Fitting 3 folds for each of 1 candidates, totalling 3 fits\n"
     ]
    },
    {
     "name": "stderr",
     "output_type": "stream",
     "text": [
      "[Parallel(n_jobs=1)]: Using backend SequentialBackend with 1 concurrent workers.\n",
      "[Parallel(n_jobs=1)]: Done   3 out of   3 | elapsed:    0.0s finished\n",
      "c:\\users\\elsas\\desktop\\pruebas\\src\\scikit-optimize\\skopt\\optimizer\\optimizer.py:399: UserWarning: The objective has been evaluated at this point before.\n",
      "  warnings.warn(\"The objective has been evaluated \"\n"
     ]
    },
    {
     "name": "stdout",
     "output_type": "stream",
     "text": [
      "Fitting 3 folds for each of 1 candidates, totalling 3 fits\n"
     ]
    },
    {
     "name": "stderr",
     "output_type": "stream",
     "text": [
      "[Parallel(n_jobs=1)]: Using backend SequentialBackend with 1 concurrent workers.\n",
      "[Parallel(n_jobs=1)]: Done   3 out of   3 | elapsed:    0.0s finished\n"
     ]
    },
    {
     "name": "stdout",
     "output_type": "stream",
     "text": [
      "Fitting 3 folds for each of 1 candidates, totalling 3 fits\n"
     ]
    },
    {
     "name": "stderr",
     "output_type": "stream",
     "text": [
      "[Parallel(n_jobs=1)]: Using backend SequentialBackend with 1 concurrent workers.\n",
      "[Parallel(n_jobs=1)]: Done   3 out of   3 | elapsed:    0.0s finished\n",
      "c:\\users\\elsas\\desktop\\pruebas\\src\\scikit-optimize\\skopt\\optimizer\\optimizer.py:399: UserWarning: The objective has been evaluated at this point before.\n",
      "  warnings.warn(\"The objective has been evaluated \"\n"
     ]
    },
    {
     "name": "stdout",
     "output_type": "stream",
     "text": [
      "Fitting 3 folds for each of 1 candidates, totalling 3 fits\n"
     ]
    },
    {
     "name": "stderr",
     "output_type": "stream",
     "text": [
      "[Parallel(n_jobs=1)]: Using backend SequentialBackend with 1 concurrent workers.\n",
      "[Parallel(n_jobs=1)]: Done   3 out of   3 | elapsed:    0.0s finished\n"
     ]
    },
    {
     "name": "stdout",
     "output_type": "stream",
     "text": [
      "0.037502094604435175\n",
      "Best Parameters \n",
      "\n",
      "{'criterion': 'mse', 'min_samples_split': 0.1} 0.04668401064043889\n",
      "Execution time: 7.077333211898804\n"
     ]
    }
   ],
   "source": [
    "start = time.time()\n",
    "\n",
    "from skopt import BayesSearchCV\n",
    "from skopt.space import Integer, Real, Categorical\n",
    "from scipy.stats import uniform, expon\n",
    "from scipy.stats import randint as sp_randint\n",
    "\n",
    "\n",
    "param_grid = {'min_samples_split': (0.1,1),\n",
    "              'criterion': list(['mse','friedman_mse'])}\n",
    "budget = 20\n",
    "np.random.seed(0)\n",
    "\n",
    "clf = BayesSearchCV(tree.DecisionTreeRegressor(), \n",
    "                    param_grid,\n",
    "                    scoring='neg_mean_squared_error',\n",
    "                    cv=3,    \n",
    "                    n_jobs=1, verbose=1,\n",
    "                    n_iter=budget\n",
    "                    )\n",
    "clf.fit(X=X_train, y=y_train)\n",
    "\n",
    "y_test_pred = clf.predict(X_test)\n",
    "print(metrics.mean_squared_error(y_test, y_test_pred))\n",
    "print('Best Parameters \\n')\n",
    "print(clf.best_params_, -clf.best_score_)\n",
    "\n",
    "\n",
    "\n",
    "end = time.time()\n",
    "print(\"Execution time: \"+str(end - start))"
   ]
  },
  {
   "cell_type": "markdown",
   "metadata": {},
   "source": [
    "## KNeighborsRegressor()"
   ]
  },
  {
   "cell_type": "code",
   "execution_count": 11,
   "metadata": {
    "scrolled": false
   },
   "outputs": [
    {
     "name": "stdout",
     "output_type": "stream",
     "text": [
      "Fitting 3 folds for each of 1 candidates, totalling 3 fits\n",
      "Fitting 3 folds for each of 1 candidates, totalling 3 fits\n"
     ]
    },
    {
     "name": "stderr",
     "output_type": "stream",
     "text": [
      "[Parallel(n_jobs=1)]: Using backend SequentialBackend with 1 concurrent workers.\n",
      "[Parallel(n_jobs=1)]: Done   3 out of   3 | elapsed:    0.0s finished\n",
      "[Parallel(n_jobs=1)]: Using backend SequentialBackend with 1 concurrent workers.\n",
      "[Parallel(n_jobs=1)]: Done   3 out of   3 | elapsed:    0.0s finished\n",
      "[Parallel(n_jobs=1)]: Using backend SequentialBackend with 1 concurrent workers.\n",
      "[Parallel(n_jobs=1)]: Done   3 out of   3 | elapsed:    0.0s finished\n",
      "[Parallel(n_jobs=1)]: Using backend SequentialBackend with 1 concurrent workers.\n",
      "[Parallel(n_jobs=1)]: Done   3 out of   3 | elapsed:    0.0s finished\n",
      "[Parallel(n_jobs=1)]: Using backend SequentialBackend with 1 concurrent workers.\n"
     ]
    },
    {
     "name": "stdout",
     "output_type": "stream",
     "text": [
      "Fitting 3 folds for each of 1 candidates, totalling 3 fits\n",
      "Fitting 3 folds for each of 1 candidates, totalling 3 fits\n",
      "Fitting 3 folds for each of 1 candidates, totalling 3 fits\n"
     ]
    },
    {
     "name": "stderr",
     "output_type": "stream",
     "text": [
      "[Parallel(n_jobs=1)]: Done   3 out of   3 | elapsed:    0.0s finished\n",
      "[Parallel(n_jobs=1)]: Using backend SequentialBackend with 1 concurrent workers.\n",
      "[Parallel(n_jobs=1)]: Done   3 out of   3 | elapsed:    0.0s finished\n",
      "[Parallel(n_jobs=1)]: Using backend SequentialBackend with 1 concurrent workers.\n",
      "[Parallel(n_jobs=1)]: Done   3 out of   3 | elapsed:    0.0s finished\n",
      "[Parallel(n_jobs=1)]: Using backend SequentialBackend with 1 concurrent workers.\n"
     ]
    },
    {
     "name": "stdout",
     "output_type": "stream",
     "text": [
      "Fitting 3 folds for each of 1 candidates, totalling 3 fits\n",
      "Fitting 3 folds for each of 1 candidates, totalling 3 fits\n",
      "Fitting 3 folds for each of 1 candidates, totalling 3 fits\n"
     ]
    },
    {
     "name": "stderr",
     "output_type": "stream",
     "text": [
      "[Parallel(n_jobs=1)]: Done   3 out of   3 | elapsed:    0.0s finished\n",
      "[Parallel(n_jobs=1)]: Using backend SequentialBackend with 1 concurrent workers.\n",
      "[Parallel(n_jobs=1)]: Done   3 out of   3 | elapsed:    0.0s finished\n"
     ]
    },
    {
     "name": "stdout",
     "output_type": "stream",
     "text": [
      "Fitting 3 folds for each of 1 candidates, totalling 3 fits\n",
      "Fitting 3 folds for each of 1 candidates, totalling 3 fits\n"
     ]
    },
    {
     "name": "stderr",
     "output_type": "stream",
     "text": [
      "[Parallel(n_jobs=1)]: Using backend SequentialBackend with 1 concurrent workers.\n",
      "[Parallel(n_jobs=1)]: Done   3 out of   3 | elapsed:    0.0s finished\n"
     ]
    },
    {
     "name": "stdout",
     "output_type": "stream",
     "text": [
      "Fitting 3 folds for each of 1 candidates, totalling 3 fits\n"
     ]
    },
    {
     "name": "stderr",
     "output_type": "stream",
     "text": [
      "[Parallel(n_jobs=1)]: Using backend SequentialBackend with 1 concurrent workers.\n",
      "[Parallel(n_jobs=1)]: Done   3 out of   3 | elapsed:    0.0s finished\n",
      "c:\\users\\elsas\\desktop\\pruebas\\src\\scikit-optimize\\skopt\\optimizer\\optimizer.py:399: UserWarning: The objective has been evaluated at this point before.\n",
      "  warnings.warn(\"The objective has been evaluated \"\n"
     ]
    },
    {
     "name": "stdout",
     "output_type": "stream",
     "text": [
      "Fitting 3 folds for each of 1 candidates, totalling 3 fits\n"
     ]
    },
    {
     "name": "stderr",
     "output_type": "stream",
     "text": [
      "[Parallel(n_jobs=1)]: Using backend SequentialBackend with 1 concurrent workers.\n",
      "[Parallel(n_jobs=1)]: Done   3 out of   3 | elapsed:    0.0s finished\n",
      "c:\\users\\elsas\\desktop\\pruebas\\src\\scikit-optimize\\skopt\\optimizer\\optimizer.py:399: UserWarning: The objective has been evaluated at this point before.\n",
      "  warnings.warn(\"The objective has been evaluated \"\n"
     ]
    },
    {
     "name": "stdout",
     "output_type": "stream",
     "text": [
      "Fitting 3 folds for each of 1 candidates, totalling 3 fits\n"
     ]
    },
    {
     "name": "stderr",
     "output_type": "stream",
     "text": [
      "[Parallel(n_jobs=1)]: Using backend SequentialBackend with 1 concurrent workers.\n",
      "[Parallel(n_jobs=1)]: Done   3 out of   3 | elapsed:    0.0s finished\n",
      "c:\\users\\elsas\\desktop\\pruebas\\src\\scikit-optimize\\skopt\\optimizer\\optimizer.py:399: UserWarning: The objective has been evaluated at this point before.\n",
      "  warnings.warn(\"The objective has been evaluated \"\n"
     ]
    },
    {
     "name": "stdout",
     "output_type": "stream",
     "text": [
      "Fitting 3 folds for each of 1 candidates, totalling 3 fits\n"
     ]
    },
    {
     "name": "stderr",
     "output_type": "stream",
     "text": [
      "[Parallel(n_jobs=1)]: Using backend SequentialBackend with 1 concurrent workers.\n",
      "[Parallel(n_jobs=1)]: Done   3 out of   3 | elapsed:    0.0s finished\n",
      "c:\\users\\elsas\\desktop\\pruebas\\src\\scikit-optimize\\skopt\\optimizer\\optimizer.py:399: UserWarning: The objective has been evaluated at this point before.\n",
      "  warnings.warn(\"The objective has been evaluated \"\n"
     ]
    },
    {
     "name": "stdout",
     "output_type": "stream",
     "text": [
      "Fitting 3 folds for each of 1 candidates, totalling 3 fits\n"
     ]
    },
    {
     "name": "stderr",
     "output_type": "stream",
     "text": [
      "[Parallel(n_jobs=1)]: Using backend SequentialBackend with 1 concurrent workers.\n",
      "[Parallel(n_jobs=1)]: Done   3 out of   3 | elapsed:    0.1s finished\n",
      "c:\\users\\elsas\\desktop\\pruebas\\src\\scikit-optimize\\skopt\\optimizer\\optimizer.py:399: UserWarning: The objective has been evaluated at this point before.\n",
      "  warnings.warn(\"The objective has been evaluated \"\n"
     ]
    },
    {
     "name": "stdout",
     "output_type": "stream",
     "text": [
      "Fitting 3 folds for each of 1 candidates, totalling 3 fits\n"
     ]
    },
    {
     "name": "stderr",
     "output_type": "stream",
     "text": [
      "[Parallel(n_jobs=1)]: Using backend SequentialBackend with 1 concurrent workers.\n",
      "[Parallel(n_jobs=1)]: Done   3 out of   3 | elapsed:    0.1s finished\n",
      "c:\\users\\elsas\\desktop\\pruebas\\src\\scikit-optimize\\skopt\\optimizer\\optimizer.py:399: UserWarning: The objective has been evaluated at this point before.\n",
      "  warnings.warn(\"The objective has been evaluated \"\n"
     ]
    },
    {
     "name": "stdout",
     "output_type": "stream",
     "text": [
      "Fitting 3 folds for each of 1 candidates, totalling 3 fits\n"
     ]
    },
    {
     "name": "stderr",
     "output_type": "stream",
     "text": [
      "[Parallel(n_jobs=1)]: Using backend SequentialBackend with 1 concurrent workers.\n",
      "[Parallel(n_jobs=1)]: Done   3 out of   3 | elapsed:    0.0s finished\n",
      "c:\\users\\elsas\\desktop\\pruebas\\src\\scikit-optimize\\skopt\\optimizer\\optimizer.py:399: UserWarning: The objective has been evaluated at this point before.\n",
      "  warnings.warn(\"The objective has been evaluated \"\n"
     ]
    },
    {
     "name": "stdout",
     "output_type": "stream",
     "text": [
      "Fitting 3 folds for each of 1 candidates, totalling 3 fits\n"
     ]
    },
    {
     "name": "stderr",
     "output_type": "stream",
     "text": [
      "[Parallel(n_jobs=1)]: Using backend SequentialBackend with 1 concurrent workers.\n",
      "[Parallel(n_jobs=1)]: Done   3 out of   3 | elapsed:    0.0s finished\n",
      "c:\\users\\elsas\\desktop\\pruebas\\src\\scikit-optimize\\skopt\\optimizer\\optimizer.py:399: UserWarning: The objective has been evaluated at this point before.\n",
      "  warnings.warn(\"The objective has been evaluated \"\n"
     ]
    },
    {
     "name": "stdout",
     "output_type": "stream",
     "text": [
      "Fitting 3 folds for each of 1 candidates, totalling 3 fits\n"
     ]
    },
    {
     "name": "stderr",
     "output_type": "stream",
     "text": [
      "[Parallel(n_jobs=1)]: Using backend SequentialBackend with 1 concurrent workers.\n",
      "[Parallel(n_jobs=1)]: Done   3 out of   3 | elapsed:    0.0s finished\n",
      "c:\\users\\elsas\\desktop\\pruebas\\src\\scikit-optimize\\skopt\\optimizer\\optimizer.py:399: UserWarning: The objective has been evaluated at this point before.\n",
      "  warnings.warn(\"The objective has been evaluated \"\n"
     ]
    },
    {
     "name": "stdout",
     "output_type": "stream",
     "text": [
      "Fitting 3 folds for each of 1 candidates, totalling 3 fits\n"
     ]
    },
    {
     "name": "stderr",
     "output_type": "stream",
     "text": [
      "[Parallel(n_jobs=1)]: Using backend SequentialBackend with 1 concurrent workers.\n",
      "[Parallel(n_jobs=1)]: Done   3 out of   3 | elapsed:    0.0s finished\n"
     ]
    },
    {
     "name": "stdout",
     "output_type": "stream",
     "text": [
      "0.024897561454502615\n",
      "{'n_neighbors': 6, 'p': 1, 'weights': 'distance'} 0.03125142327559783\n",
      "Execution time: 18.76736044883728\n"
     ]
    }
   ],
   "source": [
    "start = time.time()\n",
    "\n",
    "cv_grid = KFold(n_splits=2, shuffle=True, random_state=0)\n",
    "\n",
    "param_grid = {'n_neighbors': list(range(2,16,2)),\n",
    "              'weights': list(['uniform','distance']),\n",
    "              'p': list([1,2])\n",
    "              \n",
    "             }\n",
    "budget = 20\n",
    "np.random.seed(0)\n",
    "clf = BayesSearchCV(KNeighborsRegressor(), \n",
    "                    param_grid,\n",
    "                    scoring='neg_mean_squared_error',\n",
    "                    cv=3,    \n",
    "                    n_jobs=1, verbose=1,\n",
    "                    n_iter=budget\n",
    "                    )\n",
    "\n",
    "\n",
    "clf.fit(X=X_train, y=y_train)\n",
    "y_test_pred = clf.predict(X_test)\n",
    "print(metrics.mean_squared_error(y_test, y_test_pred))\n",
    "print(clf.best_params_, -clf.best_score_)\n",
    "\n",
    "\n",
    "\n",
    "end = time.time()\n",
    "print(\"Execution time: \"+str(end - start))"
   ]
  },
  {
   "cell_type": "markdown",
   "metadata": {},
   "source": [
    "# 3.6 Best Model and Competition Submission\n",
    "The best result for the algorithms proposed by the assignment were achieved by KNN Regressor Hyperparameter Tuning and ´submission_knn.csv´ file with predictions was generated in section 3.4."
   ]
  },
  {
   "cell_type": "markdown",
   "metadata": {},
   "source": [
    "# Model Improvement"
   ]
  },
  {
   "cell_type": "markdown",
   "metadata": {},
   "source": [
    "## Tuning other parameters of DecisionTreeRegressor()"
   ]
  },
  {
   "cell_type": "code",
   "execution_count": 12,
   "metadata": {
    "scrolled": true
   },
   "outputs": [
    {
     "name": "stdout",
     "output_type": "stream",
     "text": [
      "Fitting 2 folds for each of 20 candidates, totalling 40 fits\n",
      "0.03750209460443533\n",
      "Best Parameters \n",
      "\n"
     ]
    },
    {
     "name": "stderr",
     "output_type": "stream",
     "text": [
      "[Parallel(n_jobs=1)]: Using backend SequentialBackend with 1 concurrent workers.\n",
      "[Parallel(n_jobs=1)]: Done  40 out of  40 | elapsed:    0.0s finished\n"
     ]
    },
    {
     "data": {
      "text/plain": [
       "({'min_samples_split': 0.1, 'max_depth': 60, 'criterion': 'friedman_mse'},\n",
       " 0.04528607308130875)"
      ]
     },
     "execution_count": 12,
     "metadata": {},
     "output_type": "execute_result"
    }
   ],
   "source": [
    "cv_grid = KFold(n_splits=2, shuffle=True, random_state=0)\n",
    "param_grid = {'min_samples_split': list(np.linspace(0.1,1,10)),\n",
    "              'criterion': list(['mse','friedman_mse']),\n",
    "              'max_depth': [5,10,15,20,30,40,50,60,70]\n",
    "             }\n",
    "budget = 20\n",
    "np.random.seed(0)\n",
    "clf = RandomizedSearchCV(tree.DecisionTreeRegressor(), \n",
    "                         param_grid,\n",
    "                         scoring='neg_mean_squared_error',\n",
    "                         cv=cv_grid, \n",
    "                         n_jobs=1, verbose=1,\n",
    "                         n_iter=budget\n",
    "                        )\n",
    "clf.fit(X=X_train, y=y_train)\n",
    "y_test_pred = clf.predict(X_test)\n",
    "print(metrics.mean_squared_error(y_test, y_test_pred))\n",
    "print('Best Parameters \\n')\n",
    "clf.best_params_, -clf.best_score_"
   ]
  },
  {
   "cell_type": "code",
   "execution_count": 13,
   "metadata": {
    "scrolled": true
   },
   "outputs": [],
   "source": [
    "y_subm = clf.predict(X_comp)\n",
    "subm= np.exp(y_subm)\n",
    "subm=pd.DataFrame({'id': np.arange(1461,1461+subm.shape[0]), 'SalePrice':subm})\n",
    "subm.to_csv('submission_max_depth.csv', index=False)"
   ]
  },
  {
   "cell_type": "markdown",
   "metadata": {},
   "source": [
    "## Dimensionality Reduction: PCA"
   ]
  },
  {
   "cell_type": "code",
   "execution_count": 14,
   "metadata": {},
   "outputs": [],
   "source": [
    "pca = PCA(n_components=2)\n",
    "X_pca = pca.fit_transform(X)\n",
    "X_comp_pca = pca.transform(X_comp)\n",
    "X_train, X_test, y_train, y_test = train_test_split(X_pca, y,test_size=0.33, random_state=0)"
   ]
  },
  {
   "cell_type": "code",
   "execution_count": 15,
   "metadata": {
    "scrolled": true
   },
   "outputs": [
    {
     "data": {
      "text/plain": [
       "array([0.13117973, 0.05127897])"
      ]
     },
     "execution_count": 15,
     "metadata": {},
     "output_type": "execute_result"
    }
   ],
   "source": [
    "pca.explained_variance_ratio_"
   ]
  },
  {
   "cell_type": "code",
   "execution_count": 16,
   "metadata": {},
   "outputs": [
    {
     "name": "stdout",
     "output_type": "stream",
     "text": [
      "Training Error: 0.0\n",
      "Validation Error: 0.03087807394682239\n"
     ]
    }
   ],
   "source": [
    "neigh = KNeighborsRegressor(weights='distance', p=1,n_neighbors=8)\n",
    "neigh.fit(X_train, y_train) \n",
    "y_train_pred = neigh.predict(X_train)\n",
    "y_test_pred = neigh.predict(X_test)\n",
    "print('Training Error:', metrics.mean_squared_error(y_train, y_train_pred))\n",
    "print('Validation Error:', metrics.mean_squared_error(y_test, y_test_pred))\n",
    "pred = neigh.predict(X_comp_pca)"
   ]
  },
  {
   "cell_type": "code",
   "execution_count": 17,
   "metadata": {},
   "outputs": [],
   "source": [
    "y_subm = neigh.predict(X_comp_pca)\n",
    "subm= np.exp(y_subm)\n",
    "subm=pd.DataFrame({'id': np.arange(1461,1461+subm.shape[0]), 'SalePrice':subm})\n",
    "subm.to_csv('submission_pca.csv', index=False)"
   ]
  },
  {
   "cell_type": "markdown",
   "metadata": {},
   "source": [
    "## Gradient Boost"
   ]
  },
  {
   "cell_type": "code",
   "execution_count": 22,
   "metadata": {},
   "outputs": [
    {
     "name": "stdout",
     "output_type": "stream",
     "text": [
      "Training Error: 0.004859807148711824\n",
      "Validation Error: 0.015365551677876017\n"
     ]
    }
   ],
   "source": [
    "import numpy as np\n",
    "import matplotlib.pyplot as plt\n",
    "\n",
    "from sklearn import ensemble\n",
    "from sklearn import datasets\n",
    "from sklearn.utils import shuffle\n",
    "from sklearn.metrics import mean_squared_error\n",
    "\n",
    "\n",
    "params = {'n_estimators': 500, 'max_depth': 4, 'min_samples_split': 2,\n",
    "          'learning_rate': 0.01, 'loss': 'ls'}\n",
    "clf = ensemble.GradientBoostingRegressor(**params)\n",
    "\n",
    "clf.fit(X_train, y_train)\n",
    "y_train_pred = clf.predict(X_train)\n",
    "y_test_pred = clf.predict(X_test)\n",
    "print('Training Error:', metrics.mean_squared_error(y_train, y_train_pred))\n",
    "print('Validation Error:', metrics.mean_squared_error(y_test, y_test_pred))"
   ]
  },
  {
   "cell_type": "code",
   "execution_count": 23,
   "metadata": {},
   "outputs": [],
   "source": [
    "y_subm = clf.predict(X_comp)\n",
    "subm= np.exp(y_subm)\n",
    "subm=pd.DataFrame({'id': np.arange(1461,1461+subm.shape[0]), 'SalePrice':subm})\n",
    "subm.to_csv('submission_GB.csv', index=False)"
   ]
  }
 ],
 "metadata": {
  "kernelspec": {
   "display_name": "Python 3",
   "language": "python",
   "name": "python3"
  },
  "language_info": {
   "codemirror_mode": {
    "name": "ipython",
    "version": 3
   },
   "file_extension": ".py",
   "mimetype": "text/x-python",
   "name": "python",
   "nbconvert_exporter": "python",
   "pygments_lexer": "ipython3",
   "version": "3.7.1"
  }
 },
 "nbformat": 4,
 "nbformat_minor": 2
}
